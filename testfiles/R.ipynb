{
 "cells": [
  {
   "cell_type": "markdown",
   "metadata": {},
   "source": [
    "# R test notebook for custom conda environments\n",
    "\n",
    "Tested with *dev2018*, *dev2021* and *dev2023a*."
   ]
  },
  {
   "cell_type": "markdown",
   "metadata": {},
   "source": [
    "## Show paths of R.exe and import paths"
   ]
  },
  {
   "cell_type": "code",
   "execution_count": null,
   "metadata": {},
   "outputs": [],
   "source": [
    "print(file.path(R.home(\"bin\"), \"R\"))\n",
    "print(.libPaths())"
   ]
  },
  {
   "cell_type": "markdown",
   "metadata": {},
   "source": [
    "## Test imports"
   ]
  },
  {
   "cell_type": "code",
   "execution_count": null,
   "metadata": {},
   "outputs": [],
   "source": [
    "library(tidyverse)\n",
    "library(ggplot2)\n",
    "library(datasets)"
   ]
  },
  {
   "cell_type": "markdown",
   "metadata": {},
   "source": [
    "## Test tidyverse (tidyr, stringr, lubridate, ggplot2) and base packages"
   ]
  },
  {
   "cell_type": "code",
   "execution_count": null,
   "metadata": {},
   "outputs": [],
   "source": [
    "# Get data\n",
    "df = txhousing"
   ]
  },
  {
   "cell_type": "code",
   "execution_count": null,
   "metadata": {},
   "outputs": [],
   "source": [
    "# Calculate the distinct number of observations per city and the distinct number of min/max dates.\n",
    "# This is to confirm we have a panel dataset wihthout gaps.\n",
    "df %>% group_by(city) %>%\n",
    "    summarise(\n",
    "        count=n(),\n",
    "        mindate = min(date),\n",
    "        maxdate = max(date),\n",
    "    ) %>%\n",
    "    ungroup() %>%\n",
    "    summarise(\n",
    "        count_ok = case_when(n_distinct(count) == 1 ~ \"OK\", TRUE ~ \"NO\"),\n",
    "        mindate_ok = case_when(n_distinct(mindate) == 1 ~ \"OK\", TRUE ~ \"NO\"),\n",
    "        maxdate_ok = case_when(n_distinct(maxdate) == 1 ~ \"OK\", TRUE ~ \"NO\")\n",
    "    )"
   ]
  },
  {
   "cell_type": "code",
   "execution_count": null,
   "metadata": {},
   "outputs": [],
   "source": [
    "# Create date variables\n",
    "df = df %>%\n",
    "    mutate(\n",
    "        firstday = as.Date(paste(year, month, \"01\", sep=\"-\")),\n",
    "        yrmonth = format(firstday, \"%Y-%m\")\n",
    "    )\n",
    "\n",
    "# Check dates are correctly calculated\n",
    "df %>% filter(year == 2000) %>%\n",
    "    distinct(year, month, firstday, yrmonth)"
   ]
  },
  {
   "cell_type": "code",
   "execution_count": null,
   "metadata": {},
   "outputs": [],
   "source": [
    "# Calculate lagged volume variable in two ways (dplyr and lubridate), check that they match\n",
    "df = df %>%\n",
    "    group_by(city) %>%\n",
    "    mutate(volume_lag = dplyr::lag(volume, order_by=firstday))\n",
    "\n",
    "df_volume_lag = df %>%\n",
    "    select(city, firstday, volume) %>%\n",
    "    mutate(firstday_lead = firstday + months(1)) %>%\n",
    "    select(city, firstday_lead, volume)\n",
    "colnames(df_volume_lag) = c(\"city\", \"firstday\", \"volume_lag2\")\n",
    "\n",
    "df = df %>%\n",
    "    left_join(df_volume_lag)\n",
    "head(df %>% select(city, firstday, volume, volume_lag, volume_lag2))"
   ]
  },
  {
   "cell_type": "code",
   "execution_count": null,
   "metadata": {},
   "outputs": [],
   "source": [
    "# Divide montly observatios in terciles based on on the number of listings\n",
    "df_terciles = df %>%\n",
    "    group_by(firstday) %>%\n",
    "    summarise(\n",
    "        P33 = quantile(listings, probs=1/3, na.rm=TRUE),\n",
    "        P67 = quantile(listings, probs=2/3, na.rm=TRUE)\n",
    "    )\n",
    "df = df %>%\n",
    "    left_join(df_terciles) %>%\n",
    "    mutate(\n",
    "        listing_tercile = case_when(\n",
    "            listings > P67 ~ \"TOP\",\n",
    "            listings > P33 & listings <= P67 ~ \"MID\",\n",
    "            listings <= P33 ~ \"BOTTOM\",\n",
    "            TRUE ~ NA_character_\n",
    "        )\n",
    "    ) %>%\n",
    "    select(-c(P33, P67))"
   ]
  },
  {
   "cell_type": "code",
   "execution_count": null,
   "metadata": {},
   "outputs": [],
   "source": [
    "# Test ggplot2; calculate and plot monthly average sales price by listing terciles (dropping NAs)\n",
    "df_terciles_sum = df %>%\n",
    "    filter(!is.na(listing_tercile)) %>%\n",
    "    group_by(listing_tercile, firstday) %>%\n",
    "    summarise(meanprice = mean(median, na.rm=TRUE))\n",
    "\n",
    "df_terciles_sum %>%\n",
    "    ggplot(\n",
    "        aes(\n",
    "            x=firstday,\n",
    "            y=meanprice,\n",
    "            group=listing_tercile,\n",
    "            color=listing_tercile\n",
    "        )\n",
    "    ) + geom_line() +\n",
    "    scale_x_date(date_breaks=\"year\", date_labels=\"%Y\") + \n",
    "    xlab(\"\")"
   ]
  }
 ],
 "metadata": {
  "kernelspec": {
   "display_name": "dev2023a_r",
   "language": "R",
   "name": "dev2023a_r"
  },
  "language_info": {
   "codemirror_mode": "r",
   "file_extension": ".r",
   "mimetype": "text/x-r-source",
   "name": "R",
   "pygments_lexer": "r",
   "version": "4.1.3"
  }
 },
 "nbformat": 4,
 "nbformat_minor": 4
}
