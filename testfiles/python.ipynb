{
 "cells": [
  {
   "cell_type": "markdown",
   "metadata": {},
   "source": [
    "# Python test notebook for custom conda environments\n",
    "\n",
    "Tested with *dev2018*, *dev2021*, and *dev2023a*.\n",
    "\n",
    "If rpy2 calls to R fail (e.g., warning \"Unable to initialize JIT\"), set `R_HOME` path in your local file *kernel.json* as explained in *condaenv.md*. Alternatively, you can use the hot-fix below."
   ]
  },
  {
   "cell_type": "markdown",
   "metadata": {},
   "source": [
    "## Show paths of Python.exe"
   ]
  },
  {
   "cell_type": "code",
   "execution_count": null,
   "metadata": {},
   "outputs": [],
   "source": [
    "import sys\n",
    "print(sys.executable)"
   ]
  },
  {
   "cell_type": "markdown",
   "metadata": {},
   "source": [
    "## Show import paths"
   ]
  },
  {
   "cell_type": "code",
   "execution_count": null,
   "metadata": {},
   "outputs": [],
   "source": [
    "print(sys.path)"
   ]
  },
  {
   "cell_type": "markdown",
   "metadata": {},
   "source": [
    "## Test Python imports"
   ]
  },
  {
   "cell_type": "code",
   "execution_count": null,
   "metadata": {},
   "outputs": [],
   "source": [
    "import os\n",
    "import pandas as pd\n",
    "import numpy as np\n",
    "import matplotlib.pyplot as plt\n",
    "import seaborn as sns\n",
    "import scipy as sp\n",
    "import statsmodels as sm\n",
    "from statsmodels.sandbox.distributions.extras import pdf_moments\n",
    "import sklearn as sk\n",
    "import nltk as nltk\n",
    "from IPython.display import display\n",
    "from IPython.display import display_html"
   ]
  },
  {
   "cell_type": "code",
   "execution_count": null,
   "metadata": {},
   "outputs": [],
   "source": [
    "print('numpy version: {}.'.format(np.version.version))\n",
    "print('pandas version: {}.'.format(pd.__version__))\n",
    "print('seaborn version: {}.'.format(sns.__version__))\n",
    "print('statsmodels version: {}.'.format(sm.__version__))\n",
    "print('nltk version: {}.'.format(nltk.__version__))\n",
    "print('scikit-learn version: {}.'.format(sk.__version__))"
   ]
  },
  {
   "cell_type": "markdown",
   "metadata": {},
   "source": [
    "## Test rpy2 import\n",
    "\n",
    "Should this cell cause notebook to crash, see *condaenv.md* section *Using conda environments* for troubleshooting tips!"
   ]
  },
  {
   "cell_type": "code",
   "execution_count": null,
   "metadata": {},
   "outputs": [],
   "source": [
    "import rpy2\n",
    "print('rpy2 version: {}.'.format(rpy2.__version__))\n",
    "\n",
    "# Hot-fix for setting R_HOME\n",
    "#os.environ['R_HOME'] = '~/Anaconda3/envs/<env_name>/lib/R'\n",
    "\n",
    "# R magic using rpy2\n",
    "%load_ext rpy2.ipython"
   ]
  },
  {
   "cell_type": "markdown",
   "metadata": {},
   "source": [
    "## Test rpy2 R magic"
   ]
  },
  {
   "cell_type": "markdown",
   "metadata": {},
   "source": [
    "### R paths"
   ]
  },
  {
   "cell_type": "code",
   "execution_count": null,
   "metadata": {},
   "outputs": [],
   "source": [
    "%%R -o out1,out2\n",
    "out1 = .libPaths()\n",
    "out2 = file.path(R.home(\"bin\"), \"R\")"
   ]
  },
  {
   "cell_type": "code",
   "execution_count": null,
   "metadata": {},
   "outputs": [],
   "source": [
    "print(out1)\n",
    "print(out2)"
   ]
  },
  {
   "cell_type": "markdown",
   "metadata": {},
   "source": [
    "### Export data frame from R to Python"
   ]
  },
  {
   "cell_type": "code",
   "execution_count": null,
   "metadata": {},
   "outputs": [],
   "source": [
    "%%R -o gg,df\n",
    "gg = file.path(R.home(\"bin\"), \"R\")\n",
    "df = data.frame(x=1:5,y=5:1,z=rep(5,5))"
   ]
  },
  {
   "cell_type": "code",
   "execution_count": null,
   "metadata": {},
   "outputs": [],
   "source": [
    "display(gg)\n",
    "print('-'*30)\n",
    "display(df)"
   ]
  },
  {
   "cell_type": "markdown",
   "metadata": {},
   "source": [
    "## Test matplotlib"
   ]
  },
  {
   "cell_type": "code",
   "execution_count": null,
   "metadata": {},
   "outputs": [],
   "source": [
    "fig = plt.figure(figsize=(12,6))\n",
    "ax = fig.add_subplot(1,1,1)\n",
    "_ = ax.plot(np.arange(0,15,1), np.random.exponential(scale=0.5, size=15))"
   ]
  },
  {
   "cell_type": "markdown",
   "metadata": {},
   "source": [
    "## Test seaborn"
   ]
  },
  {
   "cell_type": "markdown",
   "metadata": {},
   "source": [
    "### Face grid test with tips data"
   ]
  },
  {
   "cell_type": "code",
   "execution_count": null,
   "metadata": {},
   "outputs": [],
   "source": [
    "tips = sns.load_dataset(\"tips\")\n",
    "\n",
    "bins = np.arange(0, 65, 5)\n",
    "#g = sns.FacetGrid(tips, col = \"time\", row = \"smoker\", size = 3, aspect = 1)\n",
    "#g = (g.map(plt.hist, \"total_bill\", color = 'r', bins = bins)\n",
    "#        .set_titles(\"{col_name}, {row_name}\")\n",
    "#        .set_axis_labels(\"Total bill (US Dollars)\", \"No of occurences\")\n",
    "#    )\n",
    "\n",
    "pal = dict(Yes = \"seagreen\", No = \"gray\")\n",
    "g2 = sns.FacetGrid(tips, col = \"time\",  hue = \"smoker\", palette = pal)\n",
    "g2 = (g2.map(plt.scatter, \"total_bill\", \"tip\", edgecolor=\"w\")\n",
    "          .add_legend())"
   ]
  },
  {
   "cell_type": "markdown",
   "metadata": {},
   "source": [
    "### kde plot"
   ]
  },
  {
   "cell_type": "code",
   "execution_count": null,
   "metadata": {},
   "outputs": [],
   "source": [
    "df = pd.DataFrame([\n",
    "    np.random.normal(0,1,1000)\n",
    "    ,np.random.normal(5,2,1000)       \n",
    "])\n",
    "df = df.T\n",
    "df.columns = ['first', 'second']\n",
    "\n",
    "\n",
    "v3 = np.concatenate((df['first'], df['second']))\n",
    "fig = plt.figure()\n",
    "ax = fig.add_subplot(111)\n",
    "_ = sns.kdeplot(v3, shade = True, ax = ax)"
   ]
  },
  {
   "cell_type": "markdown",
   "metadata": {},
   "source": [
    "## Test statsmodels and scipy"
   ]
  },
  {
   "cell_type": "code",
   "execution_count": null,
   "metadata": {},
   "outputs": [],
   "source": [
    "# Choices\n",
    "p = 0.12\n",
    "a = 1.5\n",
    "\n",
    "# Other variables\n",
    "bins=300\n",
    "sigma = 1\n",
    "b = -a * (p / (1-p))\n",
    "x, dx = np.linspace(-20, 20, bins, retstep=True)\n",
    "n_draws = 8000\n",
    "\n",
    "# Parameters\n",
    "kurtosis = 3*((1-np.power(a,2))*p-1) / (p-1)\n",
    "scale1 = sigma * np.sqrt(1+a)\n",
    "scale2 = sigma * np.sqrt(1+b)\n",
    "print(\"scale1: {}\".format(scale1))\n",
    "print(\"scale2: {}\".format(scale2))\n",
    "print(\"kurtosis: {}\".format(kurtosis))\n",
    "\n",
    "# pdfs\n",
    "sng = sp.stats.norm()\n",
    "scale1g = sp.stats.norm(loc=0, scale=scale1)\n",
    "scale2g = sp.stats.norm(loc=0, scale=scale2)\n",
    "mixedg = pdf_moments([0, sigma, 0, kurtosis])\n",
    "\n",
    "# Into frame\n",
    "df = pd.DataFrame()\n",
    "df['pdf_sng'] = sng.pdf(x)\n",
    "df['pdf_scale1g'] = scale1g.pdf(x)\n",
    "df['pdf_scale2g'] = scale2g.pdf(x)\n",
    "df['pdf_mixedg'] = mixedg(x)\n",
    "df.index = x\n",
    "\n",
    "print(\"Min value of {} is above zero? {}\".format('pdf_mixedg',np.min(df['pdf_mixedg']) > 0))\n",
    "\n",
    "# Plot\n",
    "fig = plt.figure(figsize=(15,5))\n",
    "ax = fig.add_subplot(121)\n",
    "_ = df[['pdf_sng','pdf_mixedg']].plot(ax=ax)\n",
    "ax.set_xlim(-5,5)\n",
    "ax = fig.add_subplot(122)\n",
    "_ = df.plot(ax=ax)"
   ]
  },
  {
   "cell_type": "markdown",
   "metadata": {},
   "source": [
    "## Test scikit learn"
   ]
  },
  {
   "cell_type": "code",
   "execution_count": null,
   "metadata": {},
   "outputs": [],
   "source": [
    "from sklearn.model_selection import train_test_split\n",
    "from sklearn.decomposition import PCA\n",
    "from sklearn.preprocessing import StandardScaler\n",
    "\n",
    "random_state = 1337\n",
    "\n",
    "# Load iris dataset into data frame\n",
    "iris = sk.datasets.load_iris()\n",
    "print('Variable ''iris'' is of type ' + str(type(iris)))\n",
    "columns = list(iris.feature_names ) + ['target']\n",
    "iris_df = pd.DataFrame(np.concatenate((iris.data, np.array([iris.target]).T), axis=1), columns = columns)\n",
    "\n",
    "# train and test data\n",
    "y = iris_df['target']\n",
    "iris_df_temp = iris_df.copy(); del iris_df_temp['target']\n",
    "X = iris_df_temp\n",
    "X_train, X_test, y_train, y_test = train_test_split(X,y, random_state = random_state)\n",
    "\n",
    "# z-score scaler\n",
    "standardscaler = StandardScaler()\n",
    "\n",
    "# fit scaler with train data\n",
    "standardscaler.fit(X_train)\n",
    "\n",
    "# Scaled train and test exogenous variable data \n",
    "X_train_stand = standardscaler.transform(X_train)\n",
    "X_test_stand = standardscaler.transform(X_test)\n",
    "\n",
    "# Fit PCA, reduced dimensions of train data\n",
    "model_pca = PCA(n_components=2).fit(X_train_stand)\n",
    "X_train_pca = model_pca.transform(X_train_stand)\n",
    "\n",
    "# Reduce dimension of test data\n",
    "X_test_pca = model_pca.transform(X_test_stand)\n",
    "\n",
    "display(pd.DataFrame(X_train_stand).head(2))\n",
    "display(pd.DataFrame(X_train_pca).head(2))"
   ]
  }
 ],
 "metadata": {
  "kernelspec": {
   "display_name": "dev2023a_py",
   "language": "python",
   "name": "dev2023a_py"
  },
  "language_info": {
   "codemirror_mode": {
    "name": "ipython",
    "version": 3
   },
   "file_extension": ".py",
   "mimetype": "text/x-python",
   "name": "python",
   "nbconvert_exporter": "python",
   "pygments_lexer": "ipython3",
   "version": "3.10.9"
  }
 },
 "nbformat": 4,
 "nbformat_minor": 4
}
